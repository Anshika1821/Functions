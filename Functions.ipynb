{
  "nbformat": 4,
  "nbformat_minor": 0,
  "metadata": {
    "colab": {
      "provenance": []
    },
    "kernelspec": {
      "name": "python3",
      "display_name": "Python 3"
    },
    "language_info": {
      "name": "python"
    }
  },
  "cells": [
    {
      "cell_type": "code",
      "execution_count": null,
      "metadata": {
        "id": "L3Q5qNV-kgJL"
      },
      "outputs": [],
      "source": []
    },
    {
      "cell_type": "markdown",
      "source": [
        "1. What is the difference between a function and a method in Python?\n",
        "\n",
        "Ans: Function: A block of reusable code that performs a specific task. It is defined using the def keyword and can exist independently of any object.\n",
        "Method: A function associated with an object and can access or modify the object's state. Methods are called using the dot notation\n",
        "\n",
        "2. Explain the concept of function arguments and parameters in Python.\n",
        "\n",
        "Ans: Parameters: Variables listed in the function definition.\n",
        "Arguments: Values passed to the function when it is called."
      ],
      "metadata": {
        "id": "66eARjYEnBkc"
      }
    },
    {
      "cell_type": "code",
      "source": [
        "def greet(name):  # 'name' is a parameter\n",
        "    print(f\"Hello, {name}!\")\n",
        "\n",
        "greet(\"Alice\")  # \"Alice\" is an argument\n"
      ],
      "metadata": {
        "colab": {
          "base_uri": "https://localhost:8080/"
        },
        "id": "ElOhqsHynT9p",
        "outputId": "d7d429fb-59d1-49ae-8f86-00da989b9d21"
      },
      "execution_count": 1,
      "outputs": [
        {
          "output_type": "stream",
          "name": "stdout",
          "text": [
            "Hello, Alice!\n"
          ]
        }
      ]
    },
    {
      "cell_type": "markdown",
      "source": [
        "3. What are the different ways to define and call a function in Python?\n",
        "\n",
        "Ans: Defining: Using the def keyword.\n",
        "Calling: Using the function name followed by parentheses, optionally with arguments."
      ],
      "metadata": {
        "id": "hnnN_9BNndTv"
      }
    },
    {
      "cell_type": "code",
      "source": [
        "def add(a, b):\n",
        "    return a + b\n",
        "\n",
        "result = add(3, 5)  # Function call\n"
      ],
      "metadata": {
        "id": "dxcTNBQEnmBl"
      },
      "execution_count": null,
      "outputs": []
    },
    {
      "cell_type": "markdown",
      "source": [
        "4. What is the purpose of the `return` statement in a Python function?\n",
        "\n",
        "Ans: Used to send a value back to the caller of the function.\n",
        "Ends the function execution. Example:\n"
      ],
      "metadata": {
        "id": "xa5hlqMFntEm"
      }
    },
    {
      "cell_type": "code",
      "source": [
        "def square(x):\n",
        "    return x * x\n",
        "\n",
        "print(square(4))\n"
      ],
      "metadata": {
        "id": "NT-kRzJkn0RF"
      },
      "execution_count": null,
      "outputs": []
    },
    {
      "cell_type": "markdown",
      "source": [
        "5. What are iterators in Python and how do they differ from iterables?\n",
        "\n",
        "Ans: Iterable: An object capable of returning its members one at a time (e.g., lists, strings).\n",
        "Iterator: An object representing a stream of data; it implements the __next__() and __iter__() methods. Example:"
      ],
      "metadata": {
        "id": "EusEcvHen5zd"
      }
    },
    {
      "cell_type": "code",
      "source": [
        "my_list = [1, 2, 3]  # Iterable\n",
        "iterator = iter(my_list)  # Iterator\n",
        "\n",
        "print(next(iterator))"
      ],
      "metadata": {
        "id": "ZrCqNWKIoJyk"
      },
      "execution_count": null,
      "outputs": []
    },
    {
      "cell_type": "markdown",
      "source": [
        "6. Explain the concept of generators in Python and how they are defined.\n",
        "\n",
        "Ans: Definition: Functions that produce values lazily using the yield keyword.\n",
        "Example:"
      ],
      "metadata": {
        "id": "ZjQbxpR9oMM_"
      }
    },
    {
      "cell_type": "code",
      "source": [
        "def count_up_to(n):\n",
        "    i = 1\n",
        "    while i <= n:\n",
        "        yield i\n",
        "        i += 1\n"
      ],
      "metadata": {
        "id": "KwAQD0OsoqTw"
      },
      "execution_count": null,
      "outputs": []
    },
    {
      "cell_type": "markdown",
      "source": [
        "Calling the generator:"
      ],
      "metadata": {
        "id": "BWgLd98coxUP"
      }
    },
    {
      "cell_type": "code",
      "source": [
        "for num in count_up_to(3):\n",
        "    print(num)\n"
      ],
      "metadata": {
        "id": "lOsSkWhjoyL4"
      },
      "execution_count": null,
      "outputs": []
    },
    {
      "cell_type": "markdown",
      "source": [
        "7. What are the advantages of using generators over regular functions?\n",
        "\n",
        "Ans: Memory-efficient as values are produced one at a time.\n",
        "Suitable for handling large datasets or infinite sequences.\n",
        "Easier to implement than manually managing state with iterators."
      ],
      "metadata": {
        "id": "XV21n3fTo0Xr"
      }
    },
    {
      "cell_type": "markdown",
      "source": [
        "8. What is a lambda function in Python and when is it typically used?\n",
        "\n",
        "Ans: Definition: Anonymous, single-expression functions defined using the lambda keyword.\n",
        "Example:"
      ],
      "metadata": {
        "id": "2eq_2Xhho-AN"
      }
    },
    {
      "cell_type": "code",
      "source": [
        "square = lambda x: x * x\n",
        "print(square(4))\n"
      ],
      "metadata": {
        "colab": {
          "base_uri": "https://localhost:8080/"
        },
        "id": "3HUWcr54pCqE",
        "outputId": "7f1c3ca1-dbdb-4c69-ee9d-f3579c071062"
      },
      "execution_count": 2,
      "outputs": [
        {
          "output_type": "stream",
          "name": "stdout",
          "text": [
            "16\n"
          ]
        }
      ]
    },
    {
      "cell_type": "markdown",
      "source": [
        "9. Explain the purpose and usage of the `map()` function in Python.\n",
        "\n",
        "Ans: Purpose: Applies a function to all items in an iterable.\n",
        "Example:"
      ],
      "metadata": {
        "id": "Ps3nA-lapFdw"
      }
    },
    {
      "cell_type": "code",
      "source": [
        "nums = [1, 2, 3]\n",
        "squares = map(lambda x: x * x, nums)\n",
        "print(list(squares))\n"
      ],
      "metadata": {
        "id": "saMvfFcGlvOZ"
      },
      "execution_count": null,
      "outputs": []
    },
    {
      "cell_type": "markdown",
      "source": [
        "10. What is the difference between `map()`, `reduce()`, and `filter()` functions in Python?\n",
        "\n",
        "Ans: map(): Applies a function to every item in an iterable.\n",
        "reduce(): Reduces an iterable to a single value using a binary function.\n",
        "filter(): Filters items in an iterable based on a condition.\n"
      ],
      "metadata": {
        "id": "dXPfrhUZpPbc"
      }
    },
    {
      "cell_type": "markdown",
      "source": [
        "# **Practical Questions:**"
      ],
      "metadata": {
        "id": "j1cc0ANkqOu8"
      }
    },
    {
      "cell_type": "markdown",
      "source": [
        "1. Write a Python function that takes a list of numbers as input and returns the sum of all even numbers in\n",
        "the list.\n",
        ""
      ],
      "metadata": {
        "id": "P4_uIxbxqWuY"
      }
    },
    {
      "cell_type": "code",
      "source": [
        "def sum_even_numbers(numbers):\n",
        "    return sum(num for num in numbers if num % 2 == 0)\n",
        "\n",
        "# Example usage\n",
        "print(sum_even_numbers([1, 2, 3, 4, 5, 6]))\n"
      ],
      "metadata": {
        "id": "DHPbtGSgqUx8"
      },
      "execution_count": null,
      "outputs": []
    },
    {
      "cell_type": "markdown",
      "source": [
        "2. Create a Python function that accepts a string and returns the reverse of that string."
      ],
      "metadata": {
        "id": "lriuU8BYqjME"
      }
    },
    {
      "cell_type": "code",
      "source": [
        "def reverse_string(s):\n",
        "    return s[::-1]\n",
        "\n",
        "# Example usage\n",
        "print(reverse_string(\"hello\"))\n"
      ],
      "metadata": {
        "id": "E4XglNveql3o"
      },
      "execution_count": null,
      "outputs": []
    },
    {
      "cell_type": "markdown",
      "source": [
        "3. Implement a Python function that takes a list of integers and returns a new list containing the squares of\n",
        "each number."
      ],
      "metadata": {
        "id": "CBLurq4Oq378"
      }
    },
    {
      "cell_type": "code",
      "source": [
        "def square_numbers(numbers):\n",
        "    return [num ** 2 for num in numbers]\n",
        "\n",
        "# Example usage\n",
        "print(square_numbers([1, 2, 3, 4]))"
      ],
      "metadata": {
        "id": "89GUjZHGq7Gb"
      },
      "execution_count": null,
      "outputs": []
    },
    {
      "cell_type": "markdown",
      "source": [
        "4. Write a Python function that checks if a given number is prime or not from 1 to 200."
      ],
      "metadata": {
        "id": "mKbnx8_Vq9-_"
      }
    },
    {
      "cell_type": "code",
      "source": [
        "def is_prime(num):\n",
        "    if num <= 1:\n",
        "        return False\n",
        "    for i in range(2, int(num ** 0.5) + 1):\n",
        "        if num % i == 0:\n",
        "            return False\n",
        "    return True\n",
        "\n",
        "# Example usage\n",
        "primes = [n for n in range(1, 201) if is_prime(n)]\n",
        "print(primes)\n"
      ],
      "metadata": {
        "id": "TvMXSLLMrBbU"
      },
      "execution_count": null,
      "outputs": []
    },
    {
      "cell_type": "markdown",
      "source": [
        "5. Create an iterator class in Python that generates the Fibonacci sequence up to a specified number of\n",
        "terms."
      ],
      "metadata": {
        "id": "qealSdewrES8"
      }
    },
    {
      "cell_type": "code",
      "source": [
        "class Fibonacci:\n",
        "    def __init__(self, terms):\n",
        "        self.terms = terms\n",
        "        self.a, self.b = 0, 1\n",
        "        self.count = 0\n",
        "\n",
        "    def __iter__(self):\n",
        "        return self\n",
        "\n",
        "    def __next__(self):\n",
        "        if self.count >= self.terms:\n",
        "            raise StopIteration\n",
        "        self.count += 1\n",
        "        result = self.a\n",
        "        self.a, self.b = self.b, self.a + self.b\n",
        "        return result\n",
        "\n",
        "# Example usage\n",
        "fib = Fibonacci(10)\n",
        "for num in fib:\n",
        "    print(num, end=\" \")\n"
      ],
      "metadata": {
        "id": "TEcHRYg4rGcN"
      },
      "execution_count": null,
      "outputs": []
    },
    {
      "cell_type": "markdown",
      "source": [
        "6. Write a generator function in Python that yields the powers of 2 up to a given exponent."
      ],
      "metadata": {
        "id": "EgdQiJcIrI71"
      }
    },
    {
      "cell_type": "code",
      "source": [
        "def powers_of_two(max_exponent):\n",
        "    for i in range(max_exponent + 1):\n",
        "        yield 2 ** i\n",
        "\n",
        "# Example usage\n",
        "for power in powers_of_two(5):\n",
        "    print(power, end=\" \")  # Output: 1 2 4 8 16 32\n"
      ],
      "metadata": {
        "id": "fGZhZnCXrKpD"
      },
      "execution_count": null,
      "outputs": []
    },
    {
      "cell_type": "markdown",
      "source": [
        "7. Implement a generator function that reads a file line by line and yields each line as a string"
      ],
      "metadata": {
        "id": "V9NCzQZcrPzV"
      }
    },
    {
      "cell_type": "code",
      "source": [
        "def read_file_line_by_line(filepath):\n",
        "    with open(filepath, 'r') as file:\n",
        "        for line in file:\n",
        "            yield line.strip()\n",
        "\n",
        "\n"
      ],
      "metadata": {
        "id": "W9cEIalgrQcU"
      },
      "execution_count": null,
      "outputs": []
    },
    {
      "cell_type": "markdown",
      "source": [
        "8. Use a lambda function in Python to sort a list of tuples based on the second element of each tuple."
      ],
      "metadata": {
        "id": "xqShutSFrS5I"
      }
    },
    {
      "cell_type": "code",
      "source": [
        "tuples = [(1, 3), (2, 2), (3, 1)]\n",
        "sorted_tuples = sorted(tuples, key=lambda x: x[1])\n",
        "print(sorted_tuples)"
      ],
      "metadata": {
        "id": "rJLo6O2-rU71"
      },
      "execution_count": null,
      "outputs": []
    },
    {
      "cell_type": "markdown",
      "source": [
        "9. Write a Python program that uses `map()` to convert a list of temperatures from Celsius to Fahrenheit."
      ],
      "metadata": {
        "id": "oGrmIvIurWaE"
      }
    },
    {
      "cell_type": "code",
      "source": [
        "def celsius_to_fahrenheit(celsius):\n",
        "    return list(map(lambda c: (c * 9/5) + 32, celsius))\n",
        "\n",
        "# Example usage\n",
        "print(celsius_to_fahrenheit([0, 20, 30]))\n"
      ],
      "metadata": {
        "id": "togyCoYprZND"
      },
      "execution_count": null,
      "outputs": []
    },
    {
      "cell_type": "markdown",
      "source": [
        "10. Create a Python program that uses `filter()` to remove all the vowels from a given string."
      ],
      "metadata": {
        "id": "X8b08BzOrbWs"
      }
    },
    {
      "cell_type": "code",
      "source": [
        "def remove_vowels(string):\n",
        "    return ''.join(filter(lambda ch: ch.lower() not in 'aeiou', string))\n",
        "\n",
        "# Example usage\n",
        "print(remove_vowels(\"hello world\"))\n"
      ],
      "metadata": {
        "id": "nhlqjfOirdfM"
      },
      "execution_count": null,
      "outputs": []
    },
    {
      "cell_type": "markdown",
      "source": [
        "11) Imagine an accounting routine used in a book shop. It works on a list with sublists, which look like this:\n",
        "\n",
        "\n",
        "\n",
        "\n",
        "\n",
        "\n",
        "\n",
        "Write a Python program, which returns a list with 2-tuples. Each tuple consists of the order number and the\n",
        "product of the price per item and the quantity. The product should be increased by 10,- € if the value of the\n",
        "order is smaller than 100,00 €.\n",
        "\n",
        "Write a Python program using lambda and map."
      ],
      "metadata": {
        "id": "jZWgz6_wrvqe"
      }
    },
    {
      "cell_type": "code",
      "source": [
        "orders = [\n",
        "    [34587, \"Learning Python, Mark Lutz\", 4, 40.95],\n",
        "    [98762, \"Programming Python, Mark Lutz\", 2, 56.80],\n",
        "    [77226, \"Automate the Boring Stuff, Paul barry\", 3, 32.95],\n",
        "    [88112, \"Einfuhrung in Python3, Bernd klein\", 3, 24.99]\n",
        "]\n",
        "\n",
        "result = list(map(\n",
        "    lambda order: (order[0], order[2] * order[3] + (10 if order[2] * order[3] < 100 else 0)),\n",
        "    orders\n",
        "))\n",
        "\n",
        "print(result)\n"
      ],
      "metadata": {
        "colab": {
          "base_uri": "https://localhost:8080/"
        },
        "id": "5FZWZAoMrw1L",
        "outputId": "985b7f96-44a6-4f87-8d78-31411e990fc5"
      },
      "execution_count": 3,
      "outputs": [
        {
          "output_type": "stream",
          "name": "stdout",
          "text": [
            "[(34587, 163.8), (98762, 113.6), (77226, 108.85000000000001), (88112, 84.97)]\n"
          ]
        }
      ]
    }
  ]
}